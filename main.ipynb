{
 "cells": [
  {
   "cell_type": "code",
   "execution_count": 13,
   "metadata": {},
   "outputs": [],
   "source": [
    "import cv2\n",
    "import pandas as pd\n",
    "import numpy as np\n",
    "import imutils\n",
    "from scipy.spatial import distance as dist\n",
    "from imutils import perspective\n",
    "from imutils import contours\n",
    "import matplotlib.pyplot as plt"
   ]
  },
  {
   "cell_type": "code",
   "execution_count": 14,
   "metadata": {},
   "outputs": [],
   "source": [
    "data_train_path = './train/'\n",
    "face_cascade = cv2.CascadeClassifier('xml.xml')\n",
    "\n",
    "videocapture=cv2.VideoCapture(data_train_path + '2.MOV')"
   ]
  },
  {
   "cell_type": "code",
   "execution_count": 15,
   "metadata": {},
   "outputs": [],
   "source": [
    "def detect_face(frame):\n",
    "    faces = face_cascade.detectMultiScale(frame, 1.1, 4)\n",
    "    return faces[0]\n",
    "\n",
    "def apply_brightness_contrast(input_img, brightness = 0, contrast = 0):\n",
    "    \n",
    "    if brightness != 0:\n",
    "        if brightness > 0:\n",
    "            shadow = brightness\n",
    "            highlight = 255\n",
    "        else:\n",
    "            shadow = 0\n",
    "            highlight = 255 + brightness\n",
    "        alpha_b = (highlight - shadow)/255\n",
    "        gamma_b = shadow\n",
    "        \n",
    "        buf = cv.addWeighted(input_img, alpha_b, input_img, 0, gamma_b)\n",
    "    else:\n",
    "        buf = input_img.copy()\n",
    "    \n",
    "    if contrast != 0:\n",
    "        f = 131*(contrast + 127)/(127*(131-contrast))\n",
    "        alpha_c = f\n",
    "        gamma_c = 127*(1-f)\n",
    "        \n",
    "        buf = cv.addWeighted(buf, alpha_c, buf, 0, gamma_c)\n",
    "\n",
    "    return buf\n",
    "\n",
    "def safe_div(x,y): # so we don't crash so often\n",
    "    if y==0: return 0\n",
    "    return x/y\n",
    "\n",
    "def nothing(x): # for trackbar\n",
    "    pass\n",
    "\n",
    "def rescale_frame(frame, percent=25):  # make the video windows a bit smaller\n",
    "    width = int(frame.shape[1] * percent/ 100)\n",
    "    height = int(frame.shape[0] * percent/ 100)\n",
    "    dim = (width, height)\n",
    "    return cv2.resize(frame, dim, interpolation=cv2.INTER_AREA)\n",
    "\n",
    "if not videocapture.isOpened():\n",
    "    print(\"can't open camera\")\n",
    "    exit()"
   ]
  },
  {
   "cell_type": "code",
   "execution_count": 16,
   "metadata": {},
   "outputs": [],
   "source": [
    "windowName=\"Webcam Live video feed\""
   ]
  },
  {
   "cell_type": "code",
   "execution_count": 17,
   "metadata": {},
   "outputs": [
    {
     "name": "stdout",
     "output_type": "stream",
     "text": [
      "783 206 269 269\n"
     ]
    }
   ],
   "source": [
    "closing_s = []\n",
    "\n",
    "xIM1, yIM1, wIM1, hIM1 = 0, 0, 0, 0\n",
    "for i in range(4):\n",
    "    ret, frame=videocapture.read()\n",
    "    xIM, yIM, wIM, hIM = detect_face(frame)\n",
    "    if wIM+hIM > wIM1+hIM1:\n",
    "        xIM1, yIM1, wIM1, hIM1 = xIM, yIM, wIM, hIM\n",
    "print(xIM1, yIM1, wIM1, hIM1)"
   ]
  },
  {
   "cell_type": "code",
   "execution_count": 19,
   "metadata": {},
   "outputs": [],
   "source": [
    "showLive=True\n",
    "while(showLive):\n",
    "    \n",
    "    ret, frame=videocapture.read()\n",
    "    #gray = cv2.cvtColor(frame, cv2.COLOR_BGR2GRAY)\n",
    "    #cv.rectangle(frame, (x-w, 0), (x+2*w, 480), (255, 0, 0), 2)\n",
    "    try:\n",
    "        frame = frame[yIM1+hIM1:, xIM1-2*wIM1:xIM1+3*wIM1]\n",
    "    except:\n",
    "        break\n",
    "    \n",
    "\n",
    "    frame_resize = rescale_frame(frame)\n",
    "    if not ret:\n",
    "        print(\"cannot capture the frame\")\n",
    "        exit()\n",
    "   \n",
    "    #thresh= cv2.getTrackbarPos(\"threshold\", windowName) \n",
    "    thresh = 75\n",
    "    ret,thresh1 = cv2.threshold(frame_resize,thresh,255,cv2.THRESH_BINARY) \n",
    "    thresh1 = (255-thresh1)\n",
    "    #cv2.imwrite(name, imagem)\n",
    "    \n",
    "    #kern=cv2.getTrackbarPos(\"kernel\", windowName) \n",
    "    kern = 1\n",
    "    kernel = np.ones((kern,kern),np.uint8) # square image kernel used for erosion\n",
    "    \n",
    "    #itera=cv2.getTrackbarPos(\"iterations\", windowName) \n",
    "    itera = 1\n",
    "    dilation = cv2.dilate(thresh1, kernel, iterations=itera)\n",
    "    erosion = cv2.erode(dilation,kernel,iterations = itera) # refines all edges in the binary image\n",
    "\n",
    "    opening = cv2.morphologyEx(erosion, cv2.MORPH_OPEN, kernel)\n",
    "    closing = cv2.morphologyEx(opening, cv2.MORPH_CLOSE, kernel)  \n",
    "    closing = cv2.cvtColor(closing,cv2.COLOR_BGR2GRAY)\n",
    "    \n",
    "    contours,hierarchy = cv2.findContours(closing,cv2.RETR_TREE,cv2.CHAIN_APPROX_NONE) # find contours with simple approximation cv2.RETR_TREE,cv2.CHAIN_APPROX_SIMPLE\n",
    "\n",
    "    closing = cv2.cvtColor(closing,cv2.COLOR_GRAY2RGB)\n",
    "    cv2.drawContours(closing, contours, -1, (128,255,0), 1)\n",
    "    \n",
    "    # focus on only the largest outline by area\n",
    "    areas = [] #list to hold all areas\n",
    "\n",
    "    for contour in contours:\n",
    "      ar = cv2.contourArea(contour)\n",
    "      areas.append(ar)\n",
    "\n",
    "    if len(areas) > 0:\n",
    "        max_area = max(areas)\n",
    "        max_area_index = areas.index(max_area)  # index of the list element with largest area\n",
    "\n",
    "        cnt = contours[max_area_index - 1] # largest area contour is usually the viewing window itself, why?\n",
    "\n",
    "        cv2.drawContours(closing, [cnt], 0, (0,0,255), 1)\n",
    "        \n",
    "        def midpoint(ptA, ptB): \n",
    "            return ((ptA[0] + ptB[0]) * 0.5, (ptA[1] + ptB[1]) * 0.5)\n",
    "\n",
    "        # compute the rotated bounding box of the contour\n",
    "        orig = frame_resize.copy()\n",
    "        box = cv2.minAreaRect(cnt)\n",
    "        box = cv2.cv.BoxPoints(box) if imutils.is_cv2() else cv2.boxPoints(box)\n",
    "        box = np.array(box, dtype=\"int\")\n",
    "        \n",
    "        # order the points in the contour such that they appear\n",
    "        # in top-left, top-right, bottom-right, and bottom-left\n",
    "        # order, then draw the outline of the rotated bounding\n",
    "        # box\n",
    "        box = perspective.order_points(box)\n",
    "        cv2.drawContours(orig, [box.astype(\"int\")], -1, (0, 255, 0), 1)\n",
    "    \n",
    "        # loop over the original points and draw them\n",
    "        for (x, y) in box:\n",
    "            cv2.circle(orig, (int(x), int(y)), 5, (0, 0, 255), -1)\n",
    "\n",
    "        # unpack the ordered bounding box, then compute the midpoint\n",
    "        # between the top-left and top-right coordinates, followed by\n",
    "        # the midpoint between bottom-left and bottom-right coordinates\n",
    "        (tl, tr, br, bl) = box\n",
    "        (tltrX, tltrY) = midpoint(tl, tr)\n",
    "        (blbrX, blbrY) = midpoint(bl, br)\n",
    "        \n",
    "        # compute the midpoint between the top-left and top-right points,\n",
    "        # followed by the midpoint between the top-righ and bottom-right\n",
    "        (tlblX, tlblY) = midpoint(tl, bl)\n",
    "        (trbrX, trbrY) = midpoint(tr, br)\n",
    "        \n",
    "        # draw the midpoints on the image\n",
    "        cv2.circle(orig, (int(tltrX), int(tltrY)), 5, (255, 0, 0), -1)\n",
    "        cv2.circle(orig, (int(blbrX), int(blbrY)), 5, (255, 0, 0), -1)\n",
    "        cv2.circle(orig, (int(tlblX), int(tlblY)), 5, (255, 0, 0), -1)\n",
    "        cv2.circle(orig, (int(trbrX), int(trbrY)), 5, (255, 0, 0), -1)\n",
    "        \n",
    "        # draw lines between the midpoints\n",
    "        cv2.line(orig, (int(tltrX), int(tltrY)), (int(blbrX), int(blbrY)),(255, 0, 255), 1)\n",
    "        cv2.line(orig, (int(tlblX), int(tlblY)), (int(trbrX), int(trbrY)),(255, 0, 255), 1)\n",
    "        cv2.drawContours(orig, [cnt], 0, (0,0,255), 1)\n",
    "        \n",
    "        # compute the Euclidean distance between the midpoints\n",
    "        dA = dist.euclidean((tltrX, tltrY), (blbrX, blbrY))\n",
    "        dB = dist.euclidean((tlblX, tlblY), (trbrX, trbrY))\n",
    "\n",
    "        # compute the size of the object\n",
    "        pixelsPerMetric = 1 # more to do here to get actual measurements that have meaning in the real world\n",
    "        dimA = dA / pixelsPerMetric\n",
    "        dimB = dB / pixelsPerMetric\n",
    "    \n",
    "        # draw the object sizes on the image\n",
    "        #cv2.putText(orig, \"{:.1f}mm\".format(dimA), (int(tltrX - 15), int(tltrY - 10)), cv2.FONT_HERSHEY_SIMPLEX, 0.65, (255, 255, 255), 2)\n",
    "        #cv2.putText(orig, \"{:.1f}mm\".format(dimB), (int(trbrX + 10), int(trbrY)), cv2.FONT_HERSHEY_SIMPLEX, 0.65, (255, 255, 255), 2)\n",
    "\n",
    "        # compute the center of the contour\n",
    "        M = cv2.moments(cnt)\n",
    "        cX = int(safe_div(M[\"m10\"],M[\"m00\"]))\n",
    "        cY = int(safe_div(M[\"m01\"],M[\"m00\"]))\n",
    "    \n",
    "        # draw the contour and center of the shape on the image\n",
    "        cv2.circle(orig, (cX, cY), 5, (255, 255, 255), -1)\n",
    "        cv2.putText(orig, \"center\", (cX - 20, cY - 20), cv2.FONT_HERSHEY_SIMPLEX, 0.5, (255, 255, 255), 2)\n",
    "    \n",
    "        #cv2.imshow(windowName, orig)\n",
    "        for i in range(len(closing)):\n",
    "            for j in range(len(closing[i])):\n",
    "                if closing[i][j].sum() < 255*3:\n",
    "                    closing[i][j] = [0, 0, 0]\n",
    "\n",
    "        closing_s += [closing]\n",
    "        cv2.imshow('', closing)\n",
    "        if cv2.waitKey(30)>=0:            #//НАЧАЛЬНАЯ\n",
    "            showLive=False\n",
    "cv2.destroyAllWindows()"
   ]
  },
  {
   "cell_type": "code",
   "execution_count": 20,
   "metadata": {},
   "outputs": [
    {
     "name": "stdout",
     "output_type": "stream",
     "text": [
      "<class 'numpy.ndarray'>\n"
     ]
    }
   ],
   "source": [
    "videocapture.release()\n",
    "cv2.destroyAllWindows()\n",
    "\n",
    "closing_delts = []\n",
    "print(type(closing_s[0]))\n",
    "\n",
    "delts = np.zeros(len(closing_s)-1, dtype=int)"
   ]
  },
  {
   "cell_type": "code",
   "execution_count": 25,
   "metadata": {},
   "outputs": [
    {
     "data": {
      "image/png": "[encoded data removed]",
      "text/plain": [
       "<Figure size 432x288 with 1 Axes>"
      ]
     },
     "metadata": {
      "needs_background": "light"
     },
     "output_type": "display_data"
    }
   ],
   "source": [
    "\n",
    "for i in range(1, len(closing_s)):\n",
    "    cl_dl = closing_s[i] - closing_s[i-1]\n",
    "    closing_delts += [cl_dl]\n",
    "    cv2.imshow('cl_dl', cl_dl)\n",
    "    cv2.waitKey(60)        #delts\n",
    "\n",
    "    delts[i-1] = cl_dl.sum()/(255*3)\n",
    "\n",
    "cv2.destroyAllWindows()\n",
    "plt.plot(delts)\n",
    "plt.show()"
   ]
  },
  {
   "cell_type": "code",
   "execution_count": 9,
   "metadata": {},
   "outputs": [],
   "source": [
    "data = np.array([[]])"
   ]
  },
  {
   "cell_type": "code",
   "execution_count": null,
   "metadata": {},
   "outputs": [],
   "source": [
    "\n"
   ]
  },
  {
   "cell_type": "code",
   "execution_count": null,
   "metadata": {},
   "outputs": [],
   "source": []
  },
  {
   "cell_type": "code",
   "execution_count": null,
   "metadata": {},
   "outputs": [],
   "source": []
  },
  {
   "cell_type": "code",
   "execution_count": null,
   "metadata": {},
   "outputs": [],
   "source": []
  },
  {
   "cell_type": "code",
   "execution_count": null,
   "metadata": {},
   "outputs": [],
   "source": []
  },
  {
   "cell_type": "code",
   "execution_count": null,
   "metadata": {},
   "outputs": [],
   "source": []
  },
  {
   "cell_type": "code",
   "execution_count": null,
   "metadata": {},
   "outputs": [],
   "source": []
  },
  {
   "cell_type": "code",
   "execution_count": null,
   "metadata": {},
   "outputs": [],
   "source": []
  },
  {
   "cell_type": "code",
   "execution_count": null,
   "metadata": {},
   "outputs": [],
   "source": []
  }
 ],
 "metadata": {
  "kernelspec": {
   "display_name": "Python 3",
   "language": "python",
   "name": "python3"
  }
 },
 "nbformat": 4,
 "nbformat_minor": 4
}
