{
 "cells": [
  {
   "cell_type": "code",
   "execution_count": 413,
   "metadata": {},
   "outputs": [],
   "source": [
    "import numpy as np\n",
    "import pandas as pd\n",
    "from tensorflow import keras\n",
    "from tensorflow.keras.layers import Dense\n",
    "import cv2\n",
    "import matplotlib.pyplot as plt\n",
    "from sklearn.model_selection import train_test_split\n",
    "from catboost import CatBoostRegressor\n",
    "from sklearn.model_selection import GridSearchCV\n",
    "from sklearn.metrics import r2_score, recall_score, accuracy_score\n",
    "from xgboost import XGBRegressor, XGBClassifier"
   ]
  },
  {
   "cell_type": "code",
   "execution_count": 414,
   "metadata": {},
   "outputs": [],
   "source": [
    "data = pd.read_csv('aggr.csv')"
   ]
  },
  {
   "cell_type": "code",
   "execution_count": 415,
   "metadata": {},
   "outputs": [
    {
     "data": {
      "text/html": [
       "<div>\n",
       "<style scoped>\n",
       "    .dataframe tbody tr th:only-of-type {\n",
       "        vertical-align: middle;\n",
       "    }\n",
       "\n",
       "    .dataframe tbody tr th {\n",
       "        vertical-align: top;\n",
       "    }\n",
       "\n",
       "    .dataframe thead th {\n",
       "        text-align: right;\n",
       "    }\n",
       "</style>\n",
       "<table border=\"1\" class=\"dataframe\">\n",
       "  <thead>\n",
       "    <tr style=\"text-align: right;\">\n",
       "      <th></th>\n",
       "      <th>Unnamed: 0</th>\n",
       "      <th>filename</th>\n",
       "      <th>mean</th>\n",
       "      <th>std</th>\n",
       "      <th>max</th>\n",
       "      <th>median</th>\n",
       "      <th>freq</th>\n",
       "    </tr>\n",
       "  </thead>\n",
       "  <tbody>\n",
       "    <tr>\n",
       "      <th>0</th>\n",
       "      <td>0</td>\n",
       "      <td>пульс 116-90-Обрезка 01.MOV.csv</td>\n",
       "      <td>1.544963</td>\n",
       "      <td>12.867879</td>\n",
       "      <td>2.386911</td>\n",
       "      <td>1.544963</td>\n",
       "      <td>1.0</td>\n",
       "    </tr>\n",
       "    <tr>\n",
       "      <th>1</th>\n",
       "      <td>0</td>\n",
       "      <td>пульс 116-90-Обрезка 06.MOV.csv</td>\n",
       "      <td>1.544963</td>\n",
       "      <td>12.867879</td>\n",
       "      <td>2.386911</td>\n",
       "      <td>1.544963</td>\n",
       "      <td>1.0</td>\n",
       "    </tr>\n",
       "    <tr>\n",
       "      <th>2</th>\n",
       "      <td>0</td>\n",
       "      <td>пульс 116-90-Обрезка 05.MOV.csv</td>\n",
       "      <td>1.506818</td>\n",
       "      <td>11.138351</td>\n",
       "      <td>2.270500</td>\n",
       "      <td>1.506818</td>\n",
       "      <td>1.0</td>\n",
       "    </tr>\n",
       "    <tr>\n",
       "      <th>3</th>\n",
       "      <td>0</td>\n",
       "      <td>пульс 116-90-Обрезка 20.MOV.csv</td>\n",
       "      <td>1.868246</td>\n",
       "      <td>38.540588</td>\n",
       "      <td>3.490343</td>\n",
       "      <td>1.868246</td>\n",
       "      <td>1.0</td>\n",
       "    </tr>\n",
       "    <tr>\n",
       "      <th>4</th>\n",
       "      <td>0</td>\n",
       "      <td>пульс 116-90-Обрезка 10.MOV.csv</td>\n",
       "      <td>1.537258</td>\n",
       "      <td>12.501719</td>\n",
       "      <td>2.363161</td>\n",
       "      <td>1.537258</td>\n",
       "      <td>1.0</td>\n",
       "    </tr>\n",
       "    <tr>\n",
       "      <th>...</th>\n",
       "      <td>...</td>\n",
       "      <td>...</td>\n",
       "      <td>...</td>\n",
       "      <td>...</td>\n",
       "      <td>...</td>\n",
       "      <td>...</td>\n",
       "      <td>...</td>\n",
       "    </tr>\n",
       "    <tr>\n",
       "      <th>69</th>\n",
       "      <td>0</td>\n",
       "      <td>спокойное дыхание по 1 шаблону-Обрезка 03.MOV.csv</td>\n",
       "      <td>1.506818</td>\n",
       "      <td>11.138351</td>\n",
       "      <td>2.270500</td>\n",
       "      <td>1.506818</td>\n",
       "      <td>0.0</td>\n",
       "    </tr>\n",
       "    <tr>\n",
       "      <th>70</th>\n",
       "      <td>0</td>\n",
       "      <td>спокойное дыхание по 1 шаблону-Обрезка 06.MOV.csv</td>\n",
       "      <td>1.303431</td>\n",
       "      <td>4.822118</td>\n",
       "      <td>1.698932</td>\n",
       "      <td>1.303431</td>\n",
       "      <td>0.0</td>\n",
       "    </tr>\n",
       "    <tr>\n",
       "      <th>71</th>\n",
       "      <td>0</td>\n",
       "      <td>спокойное дыхание по 1 шаблону-Обрезка 05.MOV.csv</td>\n",
       "      <td>1.640498</td>\n",
       "      <td>18.195043</td>\n",
       "      <td>2.691234</td>\n",
       "      <td>1.640498</td>\n",
       "      <td>0.0</td>\n",
       "    </tr>\n",
       "    <tr>\n",
       "      <th>72</th>\n",
       "      <td>0</td>\n",
       "      <td>спокойное дыхание по 1 шаблону-Обрезка 02.MOV.csv</td>\n",
       "      <td>1.537258</td>\n",
       "      <td>12.501719</td>\n",
       "      <td>2.363161</td>\n",
       "      <td>1.537258</td>\n",
       "      <td>0.0</td>\n",
       "    </tr>\n",
       "    <tr>\n",
       "      <th>73</th>\n",
       "      <td>0</td>\n",
       "      <td>спокойное дыхание по 1 шаблону-Обрезка 04.MOV.csv</td>\n",
       "      <td>1.529590</td>\n",
       "      <td>12.145979</td>\n",
       "      <td>2.339647</td>\n",
       "      <td>1.529590</td>\n",
       "      <td>0.0</td>\n",
       "    </tr>\n",
       "  </tbody>\n",
       "</table>\n",
       "<p>74 rows × 7 columns</p>\n",
       "</div>"
      ],
      "text/plain": [
       "    Unnamed: 0                                           filename      mean  \\\n",
       "0            0                    пульс 116-90-Обрезка 01.MOV.csv  1.544963   \n",
       "1            0                    пульс 116-90-Обрезка 06.MOV.csv  1.544963   \n",
       "2            0                    пульс 116-90-Обрезка 05.MOV.csv  1.506818   \n",
       "3            0                    пульс 116-90-Обрезка 20.MOV.csv  1.868246   \n",
       "4            0                    пульс 116-90-Обрезка 10.MOV.csv  1.537258   \n",
       "..         ...                                                ...       ...   \n",
       "69           0  спокойное дыхание по 1 шаблону-Обрезка 03.MOV.csv  1.506818   \n",
       "70           0  спокойное дыхание по 1 шаблону-Обрезка 06.MOV.csv  1.303431   \n",
       "71           0  спокойное дыхание по 1 шаблону-Обрезка 05.MOV.csv  1.640498   \n",
       "72           0  спокойное дыхание по 1 шаблону-Обрезка 02.MOV.csv  1.537258   \n",
       "73           0  спокойное дыхание по 1 шаблону-Обрезка 04.MOV.csv  1.529590   \n",
       "\n",
       "          std       max    median  freq  \n",
       "0   12.867879  2.386911  1.544963   1.0  \n",
       "1   12.867879  2.386911  1.544963   1.0  \n",
       "2   11.138351  2.270500  1.506818   1.0  \n",
       "3   38.540588  3.490343  1.868246   1.0  \n",
       "4   12.501719  2.363161  1.537258   1.0  \n",
       "..        ...       ...       ...   ...  \n",
       "69  11.138351  2.270500  1.506818   0.0  \n",
       "70   4.822118  1.698932  1.303431   0.0  \n",
       "71  18.195043  2.691234  1.640498   0.0  \n",
       "72  12.501719  2.363161  1.537258   0.0  \n",
       "73  12.145979  2.339647  1.529590   0.0  \n",
       "\n",
       "[74 rows x 7 columns]"
      ]
     },
     "execution_count": 415,
     "metadata": {},
     "output_type": "execute_result"
    }
   ],
   "source": [
    "data"
   ]
  },
  {
   "cell_type": "code",
   "execution_count": 363,
   "metadata": {},
   "outputs": [
    {
     "name": "stdout",
     "output_type": "stream",
     "text": [
      "пульс 116-90-Обрезка 01.MOV.csv\n",
      "пульс 116-90-Обрезка 06.MOV.csv\n",
      "пульс 116-90-Обрезка 05.MOV.csv\n",
      "пульс 116-90-Обрезка 20.MOV.csv\n",
      "пульс 116-90-Обрезка 10.MOV.csv\n",
      "пульс 116-90-Обрезка 15.MOV.csv\n",
      "пульс 116-90-Обрезка 09.MOV.csv\n",
      "пульс 116-90-Обрезка 19.MOV.csv\n",
      "delts3.csv\n",
      "пульс 116-90-Обрезка 07.MOV.csv\n",
      "пульс 116-90-Обрезка 17.MOV.csv\n",
      "пульс 116-90-Обрезка 11.MOV.csv\n",
      "пульс 116-90-Обрезка 12.MOV.csv\n",
      "пульс 116-90-Обрезка 04.MOV.csv\n",
      "пульс 116-90-Обрезка 13.MOV.csv\n",
      "пульс 116-90-Обрезка 14.MOV.csv\n",
      "пульс 116-90-Обрезка 18.MOV.csv\n",
      "пульс 116-90-Обрезка 02.MOV.csv\n",
      "спокойное дыхание пульс 90-Обрезка 14.MOV.csv\n",
      "спокойное дыхание пульс 90-Обрезка 15.MOV.csv\n",
      "спокойное дыхание пульс 90-Обрезка 21.MOV.csv\n",
      "спокойное дыхание пульс 90-Обрезка 02.MOV.csv\n",
      "спокойное дыхание пульс 90-Обрезка 12.MOV.csv\n",
      "спокойное дыхание пульс 90-Обрезка 03.MOV.csv\n",
      "спокойное дыхание пульс 90-Обрезка 17.MOV.csv\n",
      "спокойное дыхание пульс 90-Обрезка 22.MOV.csv\n",
      "спокойное дыхание пульс 90-Обрезка 09.MOV.csv\n",
      "спокойное дыхание пульс 90-Обрезка 20.MOV.csv\n",
      "спокойное дыхание пульс 90-Обрезка 18.MOV.csv\n",
      "спокойное дыхание пульс 90-Обрезка 11.MOV.csv\n",
      "спокойное дыхание пульс 90-Обрезка 04.MOV.csv\n",
      "спокойное дыхание пульс 90-Обрезка 05.MOV.csv\n",
      "спокойное дыхание пульс 90-Обрезка 06.MOV.csv\n",
      "спокойное дыхание пульс 90-Обрезка 19.MOV.csv\n",
      "спокойное дыхание пульс 90-Обрезка 07.MOV.csv\n",
      "спокойное дыхание пульс 90-Обрезка 13.MOV.csv\n",
      "спокойное дыхание пульс 90-Обрезка 16.MOV.csv\n",
      "пульс 160-150 4 шаблон-Обрезка 10.MOV.csv\n",
      "пульс 160-150 4 шаблон-Обрезка 02.MOV.csv\n",
      "пульс 160-150 4 шаблон-Обрезка 05.MOV.csv\n",
      "пульс 160-150 4 шаблон-Обрезка 16.MOV.csv\n",
      "пульс 160-150 4 шаблон-Обрезка 06.MOV.csv\n",
      "пульс 160-150 4 шаблон-Обрезка 13.MOV.csv\n",
      "пульс 160-150 4 шаблон-Обрезка 01.MOV.csv\n",
      "пульс 160-150 4 шаблон-Обрезка 09.MOV.csv\n",
      "delts3.csv\n",
      "Бутербор17-Набрезка 01.mov.csv\n",
      "Бутербор17-Набрезка 04.mov.csv\n",
      "Бутербор17-Набрезка 02.mov.csv\n",
      "Бутербор17-Набрезка 03.mov.csv\n",
      "Бутербор17-Набрезка 05.mov.csv\n",
      "пульс 90-80 видео по 2 шаблону-Обрезка 20.MOV.csv\n",
      "пульс 90-80 видео по 2 шаблону-Обрезка 05.MOV.csv\n",
      "пульс 90-80 видео по 2 шаблону-Обрезка 10.MOV.csv\n",
      "пульс 90-80 видео по 2 шаблону-Обрезка 06.MOV.csv\n",
      "пульс 90-80 видео по 2 шаблону-Обрезка 04.MOV.csv\n",
      "пульс 90-80 видео по 2 шаблону-Обрезка 01.MOV.csv\n",
      "пульс 90-80 видео по 2 шаблону-Обрезка 19.MOV.csv\n",
      "пульс 90-80 видео по 2 шаблону-Обрезка 14.MOV.csv\n",
      "пульс 90-80 видео по 2 шаблону-Обрезка 03.MOV.csv\n",
      "пульс 90-80 видео по 2 шаблону-Обрезка 12.MOV.csv\n",
      "пульс 90-80 видео по 2 шаблону-Обрезка 15.MOV.csv\n",
      "пульс 90-80 видео по 2 шаблону-Обрезка 11.MOV.csv\n",
      "пульс 90-80 видео по 2 шаблону-Обрезка 08.MOV.csv\n",
      "пульс 90-80 видео по 2 шаблону-Обрезка 02.MOV.csv\n",
      "пульс 90-80 видео по 2 шаблону-Обрезка 18.MOV.csv\n",
      "пульс 90-80 видео по 2 шаблону-Обрезка 17.MOV.csv\n",
      "пульс 90-80 видео по 2 шаблону-Обрезка 16.MOV.csv\n",
      "пульс 90-80 видео по 2 шаблону-Обрезка 21.MOV.csv\n",
      "спокойное дыхание по 1 шаблону-Обрезка 03.MOV.csv\n",
      "спокойное дыхание по 1 шаблону-Обрезка 06.MOV.csv\n",
      "спокойное дыхание по 1 шаблону-Обрезка 05.MOV.csv\n",
      "спокойное дыхание по 1 шаблону-Обрезка 02.MOV.csv\n",
      "спокойное дыхание по 1 шаблону-Обрезка 04.MOV.csv\n"
     ]
    }
   ],
   "source": [
    "for i in data.filename:\n",
    "    print(i)"
   ]
  },
  {
   "cell_type": "code",
   "execution_count": 416,
   "metadata": {},
   "outputs": [],
   "source": [
    "a = []\n",
    "for i in data.filename:\n",
    "    if 'delts3' in i:\n",
    "        continue\n",
    "    if 'пульс 116-90' in i:\n",
    "        if int(i[-10]) * 10 + int(i[-9]) <= 9:\n",
    "            a.append(116)\n",
    "        elif (int(i[-10]) * 10 + int(i[-9]) > 9) and (int(i[-10]) * 10 + int(i[-9]) <= 11):\n",
    "            a.append(100)\n",
    "        elif (int(i[-10]) * 10 + int(i[-9]) >= 12) and (int(i[-10]) * 10 + int(i[-9]) <= 14):\n",
    "            a.append(93)   \n",
    "        else:\n",
    "            a.append(90)  \n",
    "    elif 'спокойное дыхание пульс 90' in i:\n",
    "        if int(i[-10]) * 10 + int(i[-9]) <= 5:\n",
    "            a.append(90)\n",
    "        elif (int(i[-10]) * 10 + int(i[-9]) == 6) :\n",
    "            a.append(87)\n",
    "        elif (int(i[-10]) * 10 + int(i[-9]) > 6) and (int(i[-10]) * 10 + int(i[-9]) <= 17):\n",
    "            a.append(95)   \n",
    "        else:\n",
    "            a.append(100)\n",
    "    elif 'пульс 160-150 4 шаблон' in i:\n",
    "        if int(i[-10]) * 10 + int(i[-9]) <= 16:\n",
    "            a.append(160)\n",
    "        else:\n",
    "            a.append(150)\n",
    "    elif 'Бутербор17' in i:\n",
    "        a.append(70)\n",
    "    elif 'пульс 90-80 видео по 2 шаблону' in i:\n",
    "        if int(i[-10]) * 10 + int(i[-9]) <= 12:\n",
    "            a.append(92)\n",
    "        elif (int(i[-10]) * 10 + int(i[-9]) > 12) and (int(i[-10]) * 10 + int(i[-9]) <= 16):\n",
    "            a.append(80) \n",
    "        else:\n",
    "            a.append(86)\n",
    "    else:\n",
    "        a.append(86)"
   ]
  },
  {
   "cell_type": "code",
   "execution_count": null,
   "metadata": {},
   "outputs": [],
   "source": []
  },
  {
   "cell_type": "code",
   "execution_count": 417,
   "metadata": {},
   "outputs": [
    {
     "name": "stderr",
     "output_type": "stream",
     "text": [
      "<ipython-input-417-d67f1591679f>:2: SettingWithCopyWarning: \n",
      "A value is trying to be set on a copy of a slice from a DataFrame.\n",
      "Try using .loc[row_indexer,col_indexer] = value instead\n",
      "\n",
      "See the caveats in the documentation: https://pandas.pydata.org/pandas-docs/stable/user_guide/indexing.html#returning-a-view-versus-a-copy\n",
      "  data['y'] = a\n"
     ]
    }
   ],
   "source": [
    "data = data.loc[data.filename != 'delts3.csv']\n",
    "data['y'] = a"
   ]
  },
  {
   "cell_type": "code",
   "execution_count": 418,
   "metadata": {},
   "outputs": [],
   "source": [
    "data = data.drop(data.loc[:, data.columns.str.contains('^Unnamed')],axis = 1)\n",
    "data = data.drop(['filename'],axis = 1)"
   ]
  },
  {
   "cell_type": "markdown",
   "metadata": {},
   "source": []
  },
  {
   "cell_type": "code",
   "execution_count": 420,
   "metadata": {},
   "outputs": [],
   "source": [
    "data = data.drop(['freq'],axis = 1)"
   ]
  },
  {
   "cell_type": "code",
   "execution_count": 421,
   "metadata": {},
   "outputs": [],
   "source": [
    "X = data.drop(['y'], axis = 1)\n",
    "y = data['y']"
   ]
  },
  {
   "cell_type": "code",
   "execution_count": 380,
   "metadata": {},
   "outputs": [
    {
     "name": "stdout",
     "output_type": "stream",
     "text": [
      "1.0\n",
      "1.0\n",
      "1.0\n",
      "1.0\n",
      "1.0\n",
      "1.0\n",
      "1.0\n",
      "1.0\n",
      "1.0\n",
      "1.0\n",
      "1.0\n",
      "1.0\n",
      "1.0\n",
      "1.0\n",
      "1.0\n",
      "1.0\n",
      "1.0\n",
      "0.0\n",
      "0.0\n",
      "0.0\n",
      "0.0\n",
      "0.0\n",
      "0.0\n",
      "0.0\n",
      "0.0\n",
      "0.0\n",
      "0.0\n",
      "0.0\n",
      "0.0\n",
      "0.0\n",
      "0.0\n",
      "0.0\n",
      "0.0\n",
      "0.0\n",
      "0.0\n",
      "0.0\n",
      "2.0\n",
      "2.0\n",
      "2.0\n",
      "2.0\n",
      "2.0\n",
      "2.0\n",
      "2.0\n",
      "2.0\n",
      "1.0\n",
      "1.0\n",
      "1.0\n",
      "1.0\n",
      "1.0\n",
      "0.0\n",
      "0.0\n",
      "0.0\n",
      "0.0\n",
      "0.0\n",
      "0.0\n",
      "0.0\n",
      "0.0\n",
      "0.0\n",
      "0.0\n",
      "0.0\n",
      "0.0\n",
      "0.0\n",
      "0.0\n",
      "0.0\n",
      "0.0\n",
      "0.0\n",
      "0.0\n",
      "0.0\n",
      "0.0\n",
      "0.0\n",
      "0.0\n",
      "0.0\n"
     ]
    }
   ],
   "source": [
    "for i in X.freq:\n",
    "    print(i)\n"
   ]
  },
  {
   "cell_type": "code",
   "execution_count": 369,
   "metadata": {},
   "outputs": [
    {
     "data": {
      "text/plain": [
       "0     116\n",
       "1     116\n",
       "2     116\n",
       "3      90\n",
       "4     100\n",
       "     ... \n",
       "69     86\n",
       "70     86\n",
       "71     86\n",
       "72     86\n",
       "73     86\n",
       "Name: y, Length: 72, dtype: int64"
      ]
     },
     "execution_count": 369,
     "metadata": {},
     "output_type": "execute_result"
    }
   ],
   "source": [
    "y"
   ]
  },
  {
   "cell_type": "code",
   "execution_count": 422,
   "metadata": {},
   "outputs": [],
   "source": [
    "X_train, X_test, y_train, y_test = train_test_split(X, y, test_size = 0.3, random_state = 0)"
   ]
  },
  {
   "cell_type": "code",
   "execution_count": 439,
   "metadata": {},
   "outputs": [],
   "source": [
    "xgb = XGBRegressor()"
   ]
  },
  {
   "cell_type": "code",
   "execution_count": 440,
   "metadata": {},
   "outputs": [
    {
     "data": {
      "text/plain": [
       "XGBRegressor(base_score=0.5, booster='gbtree', colsample_bylevel=1,\n",
       "             colsample_bynode=1, colsample_bytree=1, gamma=0, gpu_id=-1,\n",
       "             importance_type='gain', interaction_constraints='',\n",
       "             learning_rate=0.300000012, max_delta_step=0, max_depth=6,\n",
       "             min_child_weight=1, missing=nan, monotone_constraints='()',\n",
       "             n_estimators=100, n_jobs=12, num_parallel_tree=1, random_state=0,\n",
       "             reg_alpha=0, reg_lambda=1, scale_pos_weight=1, subsample=1,\n",
       "             tree_method='exact', validate_parameters=1, verbosity=None)"
      ]
     },
     "execution_count": 440,
     "metadata": {},
     "output_type": "execute_result"
    }
   ],
   "source": [
    "xgb.fit(X_train, y_train)"
   ]
  },
  {
   "cell_type": "code",
   "execution_count": 441,
   "metadata": {},
   "outputs": [],
   "source": [
    "y_pred = xgb.predict(X_test)"
   ]
  },
  {
   "cell_type": "markdown",
   "metadata": {},
   "source": []
  },
  {
   "cell_type": "code",
   "execution_count": 442,
   "metadata": {},
   "outputs": [
    {
     "data": {
      "text/plain": [
       "27    100\n",
       "28    100\n",
       "50     70\n",
       "23     90\n",
       "31     90\n",
       "53     92\n",
       "7      90\n",
       "61     80\n",
       "35     95\n",
       "73     86\n",
       "58     80\n",
       "29     95\n",
       "32     87\n",
       "43    160\n",
       "34     95\n",
       "57     86\n",
       "72     86\n",
       "64     92\n",
       "44    160\n",
       "4     100\n",
       "67     80\n",
       "52     92\n",
       "Name: y, dtype: int64"
      ]
     },
     "execution_count": 442,
     "metadata": {},
     "output_type": "execute_result"
    }
   ],
   "source": [
    "y_test"
   ]
  },
  {
   "cell_type": "code",
   "execution_count": 443,
   "metadata": {},
   "outputs": [
    {
     "data": {
      "text/plain": [
       "0      94.769501\n",
       "1      94.769501\n",
       "2      90.000046\n",
       "3     121.999207\n",
       "4      99.000427\n",
       "5      88.000122\n",
       "6      89.997772\n",
       "7     159.997177\n",
       "8      94.769501\n",
       "9     104.399460\n",
       "10    104.399460\n",
       "11     94.769501\n",
       "12     94.769501\n",
       "13     98.750626\n",
       "14     94.769501\n",
       "15     89.997772\n",
       "16    100.000122\n",
       "17    121.999207\n",
       "18     98.750626\n",
       "19    100.000122\n",
       "20    104.399460\n",
       "21     94.769501\n",
       "dtype: float32"
      ]
     },
     "execution_count": 443,
     "metadata": {},
     "output_type": "execute_result"
    }
   ],
   "source": [
    "pd.Series(y_pred)"
   ]
  },
  {
   "cell_type": "code",
   "execution_count": 444,
   "metadata": {},
   "outputs": [
    {
     "data": {
      "text/plain": [
       "27     5.230499\n",
       "28     5.230499\n",
       "50    20.000046\n",
       "23    31.999207\n",
       "31     9.000427\n",
       "53     3.999878\n",
       "7      0.002228\n",
       "61    79.997177\n",
       "35     0.230499\n",
       "73    18.399460\n",
       "58    24.399460\n",
       "29     0.230499\n",
       "32     7.769501\n",
       "43    61.249374\n",
       "34     0.230499\n",
       "57     3.997772\n",
       "72    14.000122\n",
       "64    29.999207\n",
       "44    61.249374\n",
       "4      0.000122\n",
       "67    24.399460\n",
       "52     2.769501\n",
       "Name: y, dtype: float64"
      ]
     },
     "execution_count": 444,
     "metadata": {},
     "output_type": "execute_result"
    }
   ],
   "source": [
    "abs(y_pred - y_test)"
   ]
  },
  {
   "cell_type": "code",
   "execution_count": 445,
   "metadata": {},
   "outputs": [
    {
     "data": {
      "text/plain": [
       "-0.7791906841192016"
      ]
     },
     "execution_count": 445,
     "metadata": {},
     "output_type": "execute_result"
    }
   ],
   "source": [
    "r2_score(y_test, y_pred)"
   ]
  },
  {
   "cell_type": "code",
   "execution_count": null,
   "metadata": {},
   "outputs": [],
   "source": []
  },
  {
   "cell_type": "code",
   "execution_count": 446,
   "metadata": {},
   "outputs": [
    {
     "data": {
      "text/html": [
       "<style  type=\"text/css\" >\n",
       "#T_057b5df4_8ec6_11eb_bf56_40ec99efe911row0_col0,#T_057b5df4_8ec6_11eb_bf56_40ec99efe911row0_col3,#T_057b5df4_8ec6_11eb_bf56_40ec99efe911row1_col1,#T_057b5df4_8ec6_11eb_bf56_40ec99efe911row2_col2,#T_057b5df4_8ec6_11eb_bf56_40ec99efe911row3_col0,#T_057b5df4_8ec6_11eb_bf56_40ec99efe911row3_col3,#T_057b5df4_8ec6_11eb_bf56_40ec99efe911row4_col4{\n",
       "            background-color:  #b40426;\n",
       "            color:  #f1f1f1;\n",
       "        }#T_057b5df4_8ec6_11eb_bf56_40ec99efe911row0_col1,#T_057b5df4_8ec6_11eb_bf56_40ec99efe911row3_col1{\n",
       "            background-color:  #d24b40;\n",
       "            color:  #f1f1f1;\n",
       "        }#T_057b5df4_8ec6_11eb_bf56_40ec99efe911row0_col2,#T_057b5df4_8ec6_11eb_bf56_40ec99efe911row2_col0,#T_057b5df4_8ec6_11eb_bf56_40ec99efe911row2_col3,#T_057b5df4_8ec6_11eb_bf56_40ec99efe911row3_col2{\n",
       "            background-color:  #b70d28;\n",
       "            color:  #f1f1f1;\n",
       "        }#T_057b5df4_8ec6_11eb_bf56_40ec99efe911row0_col4,#T_057b5df4_8ec6_11eb_bf56_40ec99efe911row2_col4,#T_057b5df4_8ec6_11eb_bf56_40ec99efe911row3_col4,#T_057b5df4_8ec6_11eb_bf56_40ec99efe911row4_col0,#T_057b5df4_8ec6_11eb_bf56_40ec99efe911row4_col1,#T_057b5df4_8ec6_11eb_bf56_40ec99efe911row4_col2,#T_057b5df4_8ec6_11eb_bf56_40ec99efe911row4_col3{\n",
       "            background-color:  #3b4cc0;\n",
       "            color:  #f1f1f1;\n",
       "        }#T_057b5df4_8ec6_11eb_bf56_40ec99efe911row1_col0,#T_057b5df4_8ec6_11eb_bf56_40ec99efe911row1_col3{\n",
       "            background-color:  #d1493f;\n",
       "            color:  #f1f1f1;\n",
       "        }#T_057b5df4_8ec6_11eb_bf56_40ec99efe911row1_col2{\n",
       "            background-color:  #c32e31;\n",
       "            color:  #f1f1f1;\n",
       "        }#T_057b5df4_8ec6_11eb_bf56_40ec99efe911row1_col4{\n",
       "            background-color:  #4055c8;\n",
       "            color:  #f1f1f1;\n",
       "        }#T_057b5df4_8ec6_11eb_bf56_40ec99efe911row2_col1{\n",
       "            background-color:  #c43032;\n",
       "            color:  #f1f1f1;\n",
       "        }</style><table id=\"T_057b5df4_8ec6_11eb_bf56_40ec99efe911\" ><thead>    <tr>        <th class=\"blank level0\" ></th>        <th class=\"col_heading level0 col0\" >mean</th>        <th class=\"col_heading level0 col1\" >std</th>        <th class=\"col_heading level0 col2\" >max</th>        <th class=\"col_heading level0 col3\" >median</th>        <th class=\"col_heading level0 col4\" >y</th>    </tr></thead><tbody>\n",
       "                <tr>\n",
       "                        <th id=\"T_057b5df4_8ec6_11eb_bf56_40ec99efe911level0_row0\" class=\"row_heading level0 row0\" >mean</th>\n",
       "                        <td id=\"T_057b5df4_8ec6_11eb_bf56_40ec99efe911row0_col0\" class=\"data row0 col0\" >1.000000</td>\n",
       "                        <td id=\"T_057b5df4_8ec6_11eb_bf56_40ec99efe911row0_col1\" class=\"data row0 col1\" >0.906000</td>\n",
       "                        <td id=\"T_057b5df4_8ec6_11eb_bf56_40ec99efe911row0_col2\" class=\"data row0 col2\" >0.991143</td>\n",
       "                        <td id=\"T_057b5df4_8ec6_11eb_bf56_40ec99efe911row0_col3\" class=\"data row0 col3\" >1.000000</td>\n",
       "                        <td id=\"T_057b5df4_8ec6_11eb_bf56_40ec99efe911row0_col4\" class=\"data row0 col4\" >-0.100525</td>\n",
       "            </tr>\n",
       "            <tr>\n",
       "                        <th id=\"T_057b5df4_8ec6_11eb_bf56_40ec99efe911level0_row1\" class=\"row_heading level0 row1\" >std</th>\n",
       "                        <td id=\"T_057b5df4_8ec6_11eb_bf56_40ec99efe911row1_col0\" class=\"data row1 col0\" >0.906000</td>\n",
       "                        <td id=\"T_057b5df4_8ec6_11eb_bf56_40ec99efe911row1_col1\" class=\"data row1 col1\" >1.000000</td>\n",
       "                        <td id=\"T_057b5df4_8ec6_11eb_bf56_40ec99efe911row1_col2\" class=\"data row1 col2\" >0.953543</td>\n",
       "                        <td id=\"T_057b5df4_8ec6_11eb_bf56_40ec99efe911row1_col3\" class=\"data row1 col3\" >0.906000</td>\n",
       "                        <td id=\"T_057b5df4_8ec6_11eb_bf56_40ec99efe911row1_col4\" class=\"data row1 col4\" >-0.078229</td>\n",
       "            </tr>\n",
       "            <tr>\n",
       "                        <th id=\"T_057b5df4_8ec6_11eb_bf56_40ec99efe911level0_row2\" class=\"row_heading level0 row2\" >max</th>\n",
       "                        <td id=\"T_057b5df4_8ec6_11eb_bf56_40ec99efe911row2_col0\" class=\"data row2 col0\" >0.991143</td>\n",
       "                        <td id=\"T_057b5df4_8ec6_11eb_bf56_40ec99efe911row2_col1\" class=\"data row2 col1\" >0.953543</td>\n",
       "                        <td id=\"T_057b5df4_8ec6_11eb_bf56_40ec99efe911row2_col2\" class=\"data row2 col2\" >1.000000</td>\n",
       "                        <td id=\"T_057b5df4_8ec6_11eb_bf56_40ec99efe911row2_col3\" class=\"data row2 col3\" >0.991143</td>\n",
       "                        <td id=\"T_057b5df4_8ec6_11eb_bf56_40ec99efe911row2_col4\" class=\"data row2 col4\" >-0.097249</td>\n",
       "            </tr>\n",
       "            <tr>\n",
       "                        <th id=\"T_057b5df4_8ec6_11eb_bf56_40ec99efe911level0_row3\" class=\"row_heading level0 row3\" >median</th>\n",
       "                        <td id=\"T_057b5df4_8ec6_11eb_bf56_40ec99efe911row3_col0\" class=\"data row3 col0\" >1.000000</td>\n",
       "                        <td id=\"T_057b5df4_8ec6_11eb_bf56_40ec99efe911row3_col1\" class=\"data row3 col1\" >0.906000</td>\n",
       "                        <td id=\"T_057b5df4_8ec6_11eb_bf56_40ec99efe911row3_col2\" class=\"data row3 col2\" >0.991143</td>\n",
       "                        <td id=\"T_057b5df4_8ec6_11eb_bf56_40ec99efe911row3_col3\" class=\"data row3 col3\" >1.000000</td>\n",
       "                        <td id=\"T_057b5df4_8ec6_11eb_bf56_40ec99efe911row3_col4\" class=\"data row3 col4\" >-0.100525</td>\n",
       "            </tr>\n",
       "            <tr>\n",
       "                        <th id=\"T_057b5df4_8ec6_11eb_bf56_40ec99efe911level0_row4\" class=\"row_heading level0 row4\" >y</th>\n",
       "                        <td id=\"T_057b5df4_8ec6_11eb_bf56_40ec99efe911row4_col0\" class=\"data row4 col0\" >-0.100525</td>\n",
       "                        <td id=\"T_057b5df4_8ec6_11eb_bf56_40ec99efe911row4_col1\" class=\"data row4 col1\" >-0.078229</td>\n",
       "                        <td id=\"T_057b5df4_8ec6_11eb_bf56_40ec99efe911row4_col2\" class=\"data row4 col2\" >-0.097249</td>\n",
       "                        <td id=\"T_057b5df4_8ec6_11eb_bf56_40ec99efe911row4_col3\" class=\"data row4 col3\" >-0.100525</td>\n",
       "                        <td id=\"T_057b5df4_8ec6_11eb_bf56_40ec99efe911row4_col4\" class=\"data row4 col4\" >1.000000</td>\n",
       "            </tr>\n",
       "    </tbody></table>"
      ],
      "text/plain": [
       "<pandas.io.formats.style.Styler at 0x15b0130cc70>"
      ]
     },
     "execution_count": 446,
     "metadata": {},
     "output_type": "execute_result"
    }
   ],
   "source": [
    "corr = data.corr()\n",
    "corr.style.background_gradient(cmap='coolwarm')"
   ]
  },
  {
   "cell_type": "code",
   "execution_count": null,
   "metadata": {},
   "outputs": [],
   "source": []
  },
  {
   "cell_type": "code",
   "execution_count": null,
   "metadata": {},
   "outputs": [],
   "source": []
  },
  {
   "cell_type": "code",
   "execution_count": null,
   "metadata": {},
   "outputs": [],
   "source": []
  },
  {
   "cell_type": "code",
   "execution_count": null,
   "metadata": {},
   "outputs": [],
   "source": []
  },
  {
   "cell_type": "code",
   "execution_count": null,
   "metadata": {},
   "outputs": [],
   "source": []
  },
  {
   "cell_type": "code",
   "execution_count": null,
   "metadata": {},
   "outputs": [],
   "source": []
  },
  {
   "cell_type": "code",
   "execution_count": null,
   "metadata": {},
   "outputs": [],
   "source": []
  },
  {
   "cell_type": "code",
   "execution_count": null,
   "metadata": {},
   "outputs": [],
   "source": []
  },
  {
   "cell_type": "code",
   "execution_count": null,
   "metadata": {},
   "outputs": [],
   "source": []
  },
  {
   "cell_type": "code",
   "execution_count": null,
   "metadata": {},
   "outputs": [],
   "source": []
  },
  {
   "cell_type": "code",
   "execution_count": null,
   "metadata": {},
   "outputs": [],
   "source": []
  },
  {
   "cell_type": "code",
   "execution_count": 381,
   "metadata": {},
   "outputs": [
    {
     "data": {
      "text/html": [
       "<div>\n",
       "<style scoped>\n",
       "    .dataframe tbody tr th:only-of-type {\n",
       "        vertical-align: middle;\n",
       "    }\n",
       "\n",
       "    .dataframe tbody tr th {\n",
       "        vertical-align: top;\n",
       "    }\n",
       "\n",
       "    .dataframe thead th {\n",
       "        text-align: right;\n",
       "    }\n",
       "</style>\n",
       "<table border=\"1\" class=\"dataframe\">\n",
       "  <thead>\n",
       "    <tr style=\"text-align: right;\">\n",
       "      <th></th>\n",
       "      <th>mean</th>\n",
       "      <th>std</th>\n",
       "      <th>max</th>\n",
       "      <th>median</th>\n",
       "      <th>freq</th>\n",
       "      <th>y</th>\n",
       "    </tr>\n",
       "  </thead>\n",
       "  <tbody>\n",
       "    <tr>\n",
       "      <th>0</th>\n",
       "      <td>1.544963</td>\n",
       "      <td>12.867879</td>\n",
       "      <td>2.386911</td>\n",
       "      <td>1.544963</td>\n",
       "      <td>1.0</td>\n",
       "      <td>116</td>\n",
       "    </tr>\n",
       "    <tr>\n",
       "      <th>1</th>\n",
       "      <td>1.544963</td>\n",
       "      <td>12.867879</td>\n",
       "      <td>2.386911</td>\n",
       "      <td>1.544963</td>\n",
       "      <td>1.0</td>\n",
       "      <td>116</td>\n",
       "    </tr>\n",
       "    <tr>\n",
       "      <th>2</th>\n",
       "      <td>1.506818</td>\n",
       "      <td>11.138351</td>\n",
       "      <td>2.270500</td>\n",
       "      <td>1.506818</td>\n",
       "      <td>1.0</td>\n",
       "      <td>116</td>\n",
       "    </tr>\n",
       "    <tr>\n",
       "      <th>3</th>\n",
       "      <td>1.868246</td>\n",
       "      <td>38.540588</td>\n",
       "      <td>3.490343</td>\n",
       "      <td>1.868246</td>\n",
       "      <td>1.0</td>\n",
       "      <td>90</td>\n",
       "    </tr>\n",
       "    <tr>\n",
       "      <th>4</th>\n",
       "      <td>1.537258</td>\n",
       "      <td>12.501719</td>\n",
       "      <td>2.363161</td>\n",
       "      <td>1.537258</td>\n",
       "      <td>1.0</td>\n",
       "      <td>100</td>\n",
       "    </tr>\n",
       "    <tr>\n",
       "      <th>...</th>\n",
       "      <td>...</td>\n",
       "      <td>...</td>\n",
       "      <td>...</td>\n",
       "      <td>...</td>\n",
       "      <td>...</td>\n",
       "      <td>...</td>\n",
       "    </tr>\n",
       "    <tr>\n",
       "      <th>69</th>\n",
       "      <td>1.506818</td>\n",
       "      <td>11.138351</td>\n",
       "      <td>2.270500</td>\n",
       "      <td>1.506818</td>\n",
       "      <td>0.0</td>\n",
       "      <td>86</td>\n",
       "    </tr>\n",
       "    <tr>\n",
       "      <th>70</th>\n",
       "      <td>1.303431</td>\n",
       "      <td>4.822118</td>\n",
       "      <td>1.698932</td>\n",
       "      <td>1.303431</td>\n",
       "      <td>0.0</td>\n",
       "      <td>86</td>\n",
       "    </tr>\n",
       "    <tr>\n",
       "      <th>71</th>\n",
       "      <td>1.640498</td>\n",
       "      <td>18.195043</td>\n",
       "      <td>2.691234</td>\n",
       "      <td>1.640498</td>\n",
       "      <td>0.0</td>\n",
       "      <td>86</td>\n",
       "    </tr>\n",
       "    <tr>\n",
       "      <th>72</th>\n",
       "      <td>1.537258</td>\n",
       "      <td>12.501719</td>\n",
       "      <td>2.363161</td>\n",
       "      <td>1.537258</td>\n",
       "      <td>0.0</td>\n",
       "      <td>86</td>\n",
       "    </tr>\n",
       "    <tr>\n",
       "      <th>73</th>\n",
       "      <td>1.529590</td>\n",
       "      <td>12.145979</td>\n",
       "      <td>2.339647</td>\n",
       "      <td>1.529590</td>\n",
       "      <td>0.0</td>\n",
       "      <td>86</td>\n",
       "    </tr>\n",
       "  </tbody>\n",
       "</table>\n",
       "<p>72 rows × 6 columns</p>\n",
       "</div>"
      ],
      "text/plain": [
       "        mean        std       max    median  freq    y\n",
       "0   1.544963  12.867879  2.386911  1.544963   1.0  116\n",
       "1   1.544963  12.867879  2.386911  1.544963   1.0  116\n",
       "2   1.506818  11.138351  2.270500  1.506818   1.0  116\n",
       "3   1.868246  38.540588  3.490343  1.868246   1.0   90\n",
       "4   1.537258  12.501719  2.363161  1.537258   1.0  100\n",
       "..       ...        ...       ...       ...   ...  ...\n",
       "69  1.506818  11.138351  2.270500  1.506818   0.0   86\n",
       "70  1.303431   4.822118  1.698932  1.303431   0.0   86\n",
       "71  1.640498  18.195043  2.691234  1.640498   0.0   86\n",
       "72  1.537258  12.501719  2.363161  1.537258   0.0   86\n",
       "73  1.529590  12.145979  2.339647  1.529590   0.0   86\n",
       "\n",
       "[72 rows x 6 columns]"
      ]
     },
     "execution_count": 381,
     "metadata": {},
     "output_type": "execute_result"
    }
   ],
   "source": [
    "data\n"
   ]
  },
  {
   "cell_type": "code",
   "execution_count": null,
   "metadata": {},
   "outputs": [],
   "source": []
  },
  {
   "cell_type": "code",
   "execution_count": null,
   "metadata": {},
   "outputs": [],
   "source": []
  },
  {
   "cell_type": "code",
   "execution_count": 384,
   "metadata": {},
   "outputs": [],
   "source": [
    "df = data.drop(['y'], axis = 1)"
   ]
  },
  {
   "cell_type": "code",
   "execution_count": 385,
   "metadata": {},
   "outputs": [
    {
     "data": {
      "text/html": [
       "<div>\n",
       "<style scoped>\n",
       "    .dataframe tbody tr th:only-of-type {\n",
       "        vertical-align: middle;\n",
       "    }\n",
       "\n",
       "    .dataframe tbody tr th {\n",
       "        vertical-align: top;\n",
       "    }\n",
       "\n",
       "    .dataframe thead th {\n",
       "        text-align: right;\n",
       "    }\n",
       "</style>\n",
       "<table border=\"1\" class=\"dataframe\">\n",
       "  <thead>\n",
       "    <tr style=\"text-align: right;\">\n",
       "      <th></th>\n",
       "      <th>mean</th>\n",
       "      <th>std</th>\n",
       "      <th>max</th>\n",
       "      <th>median</th>\n",
       "      <th>freq</th>\n",
       "    </tr>\n",
       "  </thead>\n",
       "  <tbody>\n",
       "    <tr>\n",
       "      <th>0</th>\n",
       "      <td>1.544963</td>\n",
       "      <td>12.867879</td>\n",
       "      <td>2.386911</td>\n",
       "      <td>1.544963</td>\n",
       "      <td>1.0</td>\n",
       "    </tr>\n",
       "    <tr>\n",
       "      <th>1</th>\n",
       "      <td>1.544963</td>\n",
       "      <td>12.867879</td>\n",
       "      <td>2.386911</td>\n",
       "      <td>1.544963</td>\n",
       "      <td>1.0</td>\n",
       "    </tr>\n",
       "    <tr>\n",
       "      <th>2</th>\n",
       "      <td>1.506818</td>\n",
       "      <td>11.138351</td>\n",
       "      <td>2.270500</td>\n",
       "      <td>1.506818</td>\n",
       "      <td>1.0</td>\n",
       "    </tr>\n",
       "    <tr>\n",
       "      <th>3</th>\n",
       "      <td>1.868246</td>\n",
       "      <td>38.540588</td>\n",
       "      <td>3.490343</td>\n",
       "      <td>1.868246</td>\n",
       "      <td>1.0</td>\n",
       "    </tr>\n",
       "    <tr>\n",
       "      <th>4</th>\n",
       "      <td>1.537258</td>\n",
       "      <td>12.501719</td>\n",
       "      <td>2.363161</td>\n",
       "      <td>1.537258</td>\n",
       "      <td>1.0</td>\n",
       "    </tr>\n",
       "    <tr>\n",
       "      <th>...</th>\n",
       "      <td>...</td>\n",
       "      <td>...</td>\n",
       "      <td>...</td>\n",
       "      <td>...</td>\n",
       "      <td>...</td>\n",
       "    </tr>\n",
       "    <tr>\n",
       "      <th>69</th>\n",
       "      <td>1.506818</td>\n",
       "      <td>11.138351</td>\n",
       "      <td>2.270500</td>\n",
       "      <td>1.506818</td>\n",
       "      <td>0.0</td>\n",
       "    </tr>\n",
       "    <tr>\n",
       "      <th>70</th>\n",
       "      <td>1.303431</td>\n",
       "      <td>4.822118</td>\n",
       "      <td>1.698932</td>\n",
       "      <td>1.303431</td>\n",
       "      <td>0.0</td>\n",
       "    </tr>\n",
       "    <tr>\n",
       "      <th>71</th>\n",
       "      <td>1.640498</td>\n",
       "      <td>18.195043</td>\n",
       "      <td>2.691234</td>\n",
       "      <td>1.640498</td>\n",
       "      <td>0.0</td>\n",
       "    </tr>\n",
       "    <tr>\n",
       "      <th>72</th>\n",
       "      <td>1.537258</td>\n",
       "      <td>12.501719</td>\n",
       "      <td>2.363161</td>\n",
       "      <td>1.537258</td>\n",
       "      <td>0.0</td>\n",
       "    </tr>\n",
       "    <tr>\n",
       "      <th>73</th>\n",
       "      <td>1.529590</td>\n",
       "      <td>12.145979</td>\n",
       "      <td>2.339647</td>\n",
       "      <td>1.529590</td>\n",
       "      <td>0.0</td>\n",
       "    </tr>\n",
       "  </tbody>\n",
       "</table>\n",
       "<p>72 rows × 5 columns</p>\n",
       "</div>"
      ],
      "text/plain": [
       "        mean        std       max    median  freq\n",
       "0   1.544963  12.867879  2.386911  1.544963   1.0\n",
       "1   1.544963  12.867879  2.386911  1.544963   1.0\n",
       "2   1.506818  11.138351  2.270500  1.506818   1.0\n",
       "3   1.868246  38.540588  3.490343  1.868246   1.0\n",
       "4   1.537258  12.501719  2.363161  1.537258   1.0\n",
       "..       ...        ...       ...       ...   ...\n",
       "69  1.506818  11.138351  2.270500  1.506818   0.0\n",
       "70  1.303431   4.822118  1.698932  1.303431   0.0\n",
       "71  1.640498  18.195043  2.691234  1.640498   0.0\n",
       "72  1.537258  12.501719  2.363161  1.537258   0.0\n",
       "73  1.529590  12.145979  2.339647  1.529590   0.0\n",
       "\n",
       "[72 rows x 5 columns]"
      ]
     },
     "execution_count": 385,
     "metadata": {},
     "output_type": "execute_result"
    }
   ],
   "source": [
    "\n",
    "df"
   ]
  },
  {
   "cell_type": "code",
   "execution_count": 386,
   "metadata": {},
   "outputs": [],
   "source": [
    "X = df.drop(['freq'], axis = 1)"
   ]
  },
  {
   "cell_type": "code",
   "execution_count": 387,
   "metadata": {},
   "outputs": [],
   "source": [
    "y = df.freq"
   ]
  },
  {
   "cell_type": "code",
   "execution_count": 388,
   "metadata": {},
   "outputs": [],
   "source": [
    "X_train, X_test, y_train, y_test = train_test_split(X, y, test_size = 0.3, random_state = 0)"
   ]
  },
  {
   "cell_type": "code",
   "execution_count": 400,
   "metadata": {},
   "outputs": [],
   "source": [
    "xg = XGBClassifier()"
   ]
  },
  {
   "cell_type": "code",
   "execution_count": 401,
   "metadata": {},
   "outputs": [
    {
     "name": "stdout",
     "output_type": "stream",
     "text": [
      "[09:26:13] WARNING: C:/Users/Administrator/workspace/xgboost-win64_release_1.3.0/src/learner.cc:1061: Starting in XGBoost 1.3.0, the default evaluation metric used with the objective 'multi:softprob' was changed from 'merror' to 'mlogloss'. Explicitly set eval_metric if you'd like to restore the old behavior.\n"
     ]
    },
    {
     "name": "stderr",
     "output_type": "stream",
     "text": [
      "C:\\Users\\stani\\anaconda3\\lib\\site-packages\\xgboost\\sklearn.py:888: UserWarning: The use of label encoder in XGBClassifier is deprecated and will be removed in a future release. To remove this warning, do the following: 1) Pass option use_label_encoder=False when constructing XGBClassifier object; and 2) Encode your labels (y) as integers starting with 0, i.e. 0, 1, 2, ..., [num_class - 1].\n",
      "  warnings.warn(label_encoder_deprecation_msg, UserWarning)\n"
     ]
    },
    {
     "data": {
      "text/plain": [
       "XGBClassifier(base_score=0.5, booster='gbtree', colsample_bylevel=1,\n",
       "              colsample_bynode=1, colsample_bytree=1, gamma=0, gpu_id=-1,\n",
       "              importance_type='gain', interaction_constraints='',\n",
       "              learning_rate=0.300000012, max_delta_step=0, max_depth=6,\n",
       "              min_child_weight=1, missing=nan, monotone_constraints='()',\n",
       "              n_estimators=100, n_jobs=12, num_parallel_tree=1,\n",
       "              objective='multi:softprob', random_state=0, reg_alpha=0,\n",
       "              reg_lambda=1, scale_pos_weight=None, subsample=1,\n",
       "              tree_method='exact', validate_parameters=1, verbosity=None)"
      ]
     },
     "execution_count": 401,
     "metadata": {},
     "output_type": "execute_result"
    }
   ],
   "source": [
    "xg.fit(X_train, y_train)"
   ]
  },
  {
   "cell_type": "code",
   "execution_count": 402,
   "metadata": {},
   "outputs": [],
   "source": [
    "y_pred = xg.predict(X_test)"
   ]
  },
  {
   "cell_type": "code",
   "execution_count": 403,
   "metadata": {},
   "outputs": [
    {
     "data": {
      "text/plain": [
       "array([0., 0., 1., 0., 1., 0., 0., 2., 0., 0., 0., 0., 0., 1., 0., 0., 1.,\n",
       "       0., 1., 1., 0., 0.])"
      ]
     },
     "execution_count": 403,
     "metadata": {},
     "output_type": "execute_result"
    }
   ],
   "source": [
    "y_pred"
   ]
  },
  {
   "cell_type": "code",
   "execution_count": 404,
   "metadata": {},
   "outputs": [
    {
     "data": {
      "text/plain": [
       "27    0.0\n",
       "28    0.0\n",
       "50    1.0\n",
       "23    0.0\n",
       "31    0.0\n",
       "53    0.0\n",
       "7     1.0\n",
       "61    0.0\n",
       "35    0.0\n",
       "73    0.0\n",
       "58    0.0\n",
       "29    0.0\n",
       "32    0.0\n",
       "43    2.0\n",
       "34    0.0\n",
       "57    0.0\n",
       "72    0.0\n",
       "64    0.0\n",
       "44    2.0\n",
       "4     1.0\n",
       "67    0.0\n",
       "52    0.0\n",
       "Name: freq, dtype: float64"
      ]
     },
     "execution_count": 404,
     "metadata": {},
     "output_type": "execute_result"
    }
   ],
   "source": [
    "y_test"
   ]
  },
  {
   "cell_type": "code",
   "execution_count": 412,
   "metadata": {},
   "outputs": [
    {
     "data": {
      "text/plain": [
       "0.7272727272727273"
      ]
     },
     "execution_count": 412,
     "metadata": {},
     "output_type": "execute_result"
    }
   ],
   "source": [
    "accuracy_score(y_pred, y_test)"
   ]
  },
  {
   "cell_type": "code",
   "execution_count": null,
   "metadata": {},
   "outputs": [],
   "source": []
  },
  {
   "cell_type": "code",
   "execution_count": null,
   "metadata": {},
   "outputs": [],
   "source": []
  },
  {
   "cell_type": "code",
   "execution_count": null,
   "metadata": {},
   "outputs": [],
   "source": []
  },
  {
   "cell_type": "code",
   "execution_count": null,
   "metadata": {},
   "outputs": [],
   "source": []
  },
  {
   "cell_type": "code",
   "execution_count": null,
   "metadata": {},
   "outputs": [],
   "source": []
  },
  {
   "cell_type": "code",
   "execution_count": null,
   "metadata": {},
   "outputs": [],
   "source": []
  },
  {
   "cell_type": "code",
   "execution_count": null,
   "metadata": {},
   "outputs": [],
   "source": []
  },
  {
   "cell_type": "code",
   "execution_count": null,
   "metadata": {},
   "outputs": [],
   "source": []
  },
  {
   "cell_type": "code",
   "execution_count": 356,
   "metadata": {},
   "outputs": [
    {
     "ename": "NameError",
     "evalue": "name 'y_pre' is not defined",
     "output_type": "error",
     "traceback": [
      "\u001b[1;31m---------------------------------------------------------------------------\u001b[0m",
      "\u001b[1;31mNameError\u001b[0m                                 Traceback (most recent call last)",
      "\u001b[1;32m<ipython-input-356-aec9f7f6f999>\u001b[0m in \u001b[0;36m<module>\u001b[1;34m\u001b[0m\n\u001b[1;32m----> 1\u001b[1;33m \u001b[0my_pre\u001b[0m\u001b[1;33m\u001b[0m\u001b[1;33m\u001b[0m\u001b[0m\n\u001b[0m",
      "\u001b[1;31mNameError\u001b[0m: name 'y_pre' is not defined"
     ]
    }
   ],
   "source": [
    "y_pre"
   ]
  },
  {
   "cell_type": "code",
   "execution_count": null,
   "metadata": {},
   "outputs": [],
   "source": []
  },
  {
   "cell_type": "raw",
   "metadata": {},
   "source": []
  },
  {
   "cell_type": "code",
   "execution_count": null,
   "metadata": {},
   "outputs": [],
   "source": []
  },
  {
   "cell_type": "code",
   "execution_count": null,
   "metadata": {},
   "outputs": [],
   "source": []
  },
  {
   "cell_type": "code",
   "execution_count": null,
   "metadata": {},
   "outputs": [],
   "source": []
  },
  {
   "cell_type": "code",
   "execution_count": null,
   "metadata": {},
   "outputs": [],
   "source": []
  },
  {
   "cell_type": "code",
   "execution_count": null,
   "metadata": {},
   "outputs": [],
   "source": []
  },
  {
   "cell_type": "code",
   "execution_count": null,
   "metadata": {},
   "outputs": [],
   "source": []
  },
  {
   "cell_type": "code",
   "execution_count": null,
   "metadata": {},
   "outputs": [],
   "source": []
  },
  {
   "cell_type": "code",
   "execution_count": null,
   "metadata": {},
   "outputs": [],
   "source": []
  },
  {
   "cell_type": "code",
   "execution_count": null,
   "metadata": {},
   "outputs": [],
   "source": []
  },
  {
   "cell_type": "code",
   "execution_count": null,
   "metadata": {},
   "outputs": [],
   "source": []
  },
  {
   "cell_type": "code",
   "execution_count": null,
   "metadata": {},
   "outputs": [],
   "source": []
  },
  {
   "cell_type": "code",
   "execution_count": null,
   "metadata": {},
   "outputs": [],
   "source": []
  },
  {
   "cell_type": "code",
   "execution_count": null,
   "metadata": {},
   "outputs": [],
   "source": []
  },
  {
   "cell_type": "code",
   "execution_count": null,
   "metadata": {},
   "outputs": [],
   "source": []
  },
  {
   "cell_type": "code",
   "execution_count": null,
   "metadata": {},
   "outputs": [],
   "source": []
  },
  {
   "cell_type": "code",
   "execution_count": null,
   "metadata": {},
   "outputs": [],
   "source": []
  },
  {
   "cell_type": "code",
   "execution_count": null,
   "metadata": {},
   "outputs": [],
   "source": []
  },
  {
   "cell_type": "code",
   "execution_count": null,
   "metadata": {},
   "outputs": [],
   "source": []
  }
 ],
 "metadata": {
  "kernelspec": {
   "display_name": "Python 3",
   "language": "python",
   "name": "python3"
  },
  "language_info": {
   "codemirror_mode": {
    "name": "ipython",
    "version": 3
   },
   "file_extension": ".py",
   "mimetype": "text/x-python",
   "name": "python",
   "nbconvert_exporter": "python",
   "pygments_lexer": "ipython3",
   "version": "3.8.5"
  }
 },
 "nbformat": 4,
 "nbformat_minor": 4
}
